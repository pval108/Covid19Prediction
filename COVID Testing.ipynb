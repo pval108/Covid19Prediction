{
 "cells": [
  {
   "cell_type": "code",
   "execution_count": 2,
   "metadata": {},
   "outputs": [],
   "source": [
    "import pandas as pd\n",
    "import seaborn as sns\n",
    "import numpy as np\n",
    "import matplotlib.pyplot as plt\n",
    "%matplotlib inline\n",
    "sns.set(style=\"whitegrid\")\n",
    "import requests\n",
    "import json\n",
    "from pandas.io.json import json_normalize"
   ]
  },
  {
   "cell_type": "code",
   "execution_count": 3,
   "metadata": {},
   "outputs": [],
   "source": [
    "df = pd.read_csv('C:/Users/pbv01/Desktop/COVID Project/COVID Tracking Project/daily (1).csv',parse_dates=True,date_parser=True)"
   ]
  },
  {
   "cell_type": "code",
   "execution_count": 4,
   "metadata": {},
   "outputs": [],
   "source": [
    "df = df[['date', 'state',\n",
    "    'positive', \n",
    "    'negative', \n",
    "    'pending', \n",
    "    'dataQualityGrade', \n",
    "    'lastUpdateEt', \n",
    "    'dateModified',\n",
    "       'totalTestsViral', 'positiveTestsViral', 'negativeTestsViral',\n",
    "       'positiveCasesViral', 'deathConfirmed', 'deathProbable',\n",
    "       'positiveIncrease', 'negativeIncrease', 'total', 'totalTestResults',\n",
    "       'totalTestResultsIncrease']]"
   ]
  },
  {
   "cell_type": "code",
   "execution_count": 5,
   "metadata": {},
   "outputs": [
    {
     "data": {
      "text/html": [
       "<div>\n",
       "<style scoped>\n",
       "    .dataframe tbody tr th:only-of-type {\n",
       "        vertical-align: middle;\n",
       "    }\n",
       "\n",
       "    .dataframe tbody tr th {\n",
       "        vertical-align: top;\n",
       "    }\n",
       "\n",
       "    .dataframe thead th {\n",
       "        text-align: right;\n",
       "    }\n",
       "</style>\n",
       "<table border=\"1\" class=\"dataframe\">\n",
       "  <thead>\n",
       "    <tr style=\"text-align: right;\">\n",
       "      <th></th>\n",
       "      <th>date</th>\n",
       "      <th>state</th>\n",
       "      <th>positive</th>\n",
       "      <th>negative</th>\n",
       "      <th>pending</th>\n",
       "      <th>dataQualityGrade</th>\n",
       "      <th>lastUpdateEt</th>\n",
       "      <th>dateModified</th>\n",
       "      <th>totalTestsViral</th>\n",
       "      <th>positiveTestsViral</th>\n",
       "      <th>negativeTestsViral</th>\n",
       "      <th>positiveCasesViral</th>\n",
       "      <th>deathConfirmed</th>\n",
       "      <th>deathProbable</th>\n",
       "      <th>positiveIncrease</th>\n",
       "      <th>negativeIncrease</th>\n",
       "      <th>total</th>\n",
       "      <th>totalTestResults</th>\n",
       "      <th>totalTestResultsIncrease</th>\n",
       "    </tr>\n",
       "  </thead>\n",
       "  <tbody>\n",
       "    <tr>\n",
       "      <td>0</td>\n",
       "      <td>20200724</td>\n",
       "      <td>FL</td>\n",
       "      <td>402312</td>\n",
       "      <td>2874324</td>\n",
       "      <td>2727.0</td>\n",
       "      <td>A</td>\n",
       "      <td>7/23/2020 23:59</td>\n",
       "      <td>2020-07-23T23:59:00Z</td>\n",
       "      <td>4166644.0</td>\n",
       "      <td>502625.0</td>\n",
       "      <td>3649517.0</td>\n",
       "      <td>402312.0</td>\n",
       "      <td>5768.0</td>\n",
       "      <td>NaN</td>\n",
       "      <td>12444</td>\n",
       "      <td>53250</td>\n",
       "      <td>3279363</td>\n",
       "      <td>3276636</td>\n",
       "      <td>65694</td>\n",
       "    </tr>\n",
       "    <tr>\n",
       "      <td>1</td>\n",
       "      <td>20200723</td>\n",
       "      <td>FL</td>\n",
       "      <td>389868</td>\n",
       "      <td>2821074</td>\n",
       "      <td>2626.0</td>\n",
       "      <td>A</td>\n",
       "      <td>7/22/2020 23:59</td>\n",
       "      <td>2020-07-22T23:59:00Z</td>\n",
       "      <td>4075056.0</td>\n",
       "      <td>486782.0</td>\n",
       "      <td>3574573.0</td>\n",
       "      <td>389868.0</td>\n",
       "      <td>5632.0</td>\n",
       "      <td>NaN</td>\n",
       "      <td>10249</td>\n",
       "      <td>45982</td>\n",
       "      <td>3213568</td>\n",
       "      <td>3210942</td>\n",
       "      <td>56231</td>\n",
       "    </tr>\n",
       "    <tr>\n",
       "      <td>2</td>\n",
       "      <td>20200722</td>\n",
       "      <td>FL</td>\n",
       "      <td>379619</td>\n",
       "      <td>2775092</td>\n",
       "      <td>2524.0</td>\n",
       "      <td>A</td>\n",
       "      <td>7/21/2020 23:59</td>\n",
       "      <td>2020-07-21T23:59:00Z</td>\n",
       "      <td>3993867.0</td>\n",
       "      <td>473128.0</td>\n",
       "      <td>3507785.0</td>\n",
       "      <td>379619.0</td>\n",
       "      <td>5459.0</td>\n",
       "      <td>NaN</td>\n",
       "      <td>9785</td>\n",
       "      <td>45176</td>\n",
       "      <td>3157235</td>\n",
       "      <td>3154711</td>\n",
       "      <td>54961</td>\n",
       "    </tr>\n",
       "    <tr>\n",
       "      <td>3</td>\n",
       "      <td>20200721</td>\n",
       "      <td>FL</td>\n",
       "      <td>369834</td>\n",
       "      <td>2729916</td>\n",
       "      <td>2462.0</td>\n",
       "      <td>A</td>\n",
       "      <td>7/20/2020 23:59</td>\n",
       "      <td>2020-07-20T23:59:00Z</td>\n",
       "      <td>3912910.0</td>\n",
       "      <td>460918.0</td>\n",
       "      <td>3439642.0</td>\n",
       "      <td>369834.0</td>\n",
       "      <td>5319.0</td>\n",
       "      <td>NaN</td>\n",
       "      <td>9440</td>\n",
       "      <td>38204</td>\n",
       "      <td>3102212</td>\n",
       "      <td>3099750</td>\n",
       "      <td>47644</td>\n",
       "    </tr>\n",
       "    <tr>\n",
       "      <td>4</td>\n",
       "      <td>20200720</td>\n",
       "      <td>FL</td>\n",
       "      <td>360394</td>\n",
       "      <td>2691712</td>\n",
       "      <td>2391.0</td>\n",
       "      <td>A</td>\n",
       "      <td>7/19/2020 23:59</td>\n",
       "      <td>2020-07-19T23:59:00Z</td>\n",
       "      <td>3845270.0</td>\n",
       "      <td>448764.0</td>\n",
       "      <td>3384679.0</td>\n",
       "      <td>360394.0</td>\n",
       "      <td>5183.0</td>\n",
       "      <td>NaN</td>\n",
       "      <td>10347</td>\n",
       "      <td>39118</td>\n",
       "      <td>3054497</td>\n",
       "      <td>3052106</td>\n",
       "      <td>49465</td>\n",
       "    </tr>\n",
       "  </tbody>\n",
       "</table>\n",
       "</div>"
      ],
      "text/plain": [
       "       date state  positive  negative  pending dataQualityGrade  \\\n",
       "0  20200724    FL    402312   2874324   2727.0                A   \n",
       "1  20200723    FL    389868   2821074   2626.0                A   \n",
       "2  20200722    FL    379619   2775092   2524.0                A   \n",
       "3  20200721    FL    369834   2729916   2462.0                A   \n",
       "4  20200720    FL    360394   2691712   2391.0                A   \n",
       "\n",
       "      lastUpdateEt          dateModified  totalTestsViral  positiveTestsViral  \\\n",
       "0  7/23/2020 23:59  2020-07-23T23:59:00Z        4166644.0            502625.0   \n",
       "1  7/22/2020 23:59  2020-07-22T23:59:00Z        4075056.0            486782.0   \n",
       "2  7/21/2020 23:59  2020-07-21T23:59:00Z        3993867.0            473128.0   \n",
       "3  7/20/2020 23:59  2020-07-20T23:59:00Z        3912910.0            460918.0   \n",
       "4  7/19/2020 23:59  2020-07-19T23:59:00Z        3845270.0            448764.0   \n",
       "\n",
       "   negativeTestsViral  positiveCasesViral  deathConfirmed  deathProbable  \\\n",
       "0           3649517.0            402312.0          5768.0            NaN   \n",
       "1           3574573.0            389868.0          5632.0            NaN   \n",
       "2           3507785.0            379619.0          5459.0            NaN   \n",
       "3           3439642.0            369834.0          5319.0            NaN   \n",
       "4           3384679.0            360394.0          5183.0            NaN   \n",
       "\n",
       "   positiveIncrease  negativeIncrease    total  totalTestResults  \\\n",
       "0             12444             53250  3279363           3276636   \n",
       "1             10249             45982  3213568           3210942   \n",
       "2              9785             45176  3157235           3154711   \n",
       "3              9440             38204  3102212           3099750   \n",
       "4             10347             39118  3054497           3052106   \n",
       "\n",
       "   totalTestResultsIncrease  \n",
       "0                     65694  \n",
       "1                     56231  \n",
       "2                     54961  \n",
       "3                     47644  \n",
       "4                     49465  "
      ]
     },
     "execution_count": 5,
     "metadata": {},
     "output_type": "execute_result"
    }
   ],
   "source": [
    "df.head()"
   ]
  },
  {
   "cell_type": "code",
   "execution_count": 6,
   "metadata": {},
   "outputs": [],
   "source": [
    "df['date'] = pd.to_datetime(df['date'].astype(str), format='%Y%m%d')"
   ]
  },
  {
   "cell_type": "code",
   "execution_count": 7,
   "metadata": {
    "scrolled": false
   },
   "outputs": [
    {
     "data": {
      "text/plain": [
       "<matplotlib.axes._subplots.AxesSubplot at 0x14fddddbf08>"
      ]
     },
     "execution_count": 7,
     "metadata": {},
     "output_type": "execute_result"
    },
    {
     "data": {
      "image/png": "[encoded data removed]",
      "text/plain": [
       "<Figure size 720x504 with 2 Axes>"
      ]
     },
     "metadata": {
      "needs_background": "light"
     },
     "output_type": "display_data"
    }
   ],
   "source": [
    "plt.figure(figsize=(10,7))\n",
    "sns.heatmap(df.corr(), fmt='.1g')"
   ]
  },
  {
   "cell_type": "code",
   "execution_count": 8,
   "metadata": {},
   "outputs": [],
   "source": [
    "df1 = df[['date','positive','negative','pending']]"
   ]
  },
  {
   "cell_type": "code",
   "execution_count": 9,
   "metadata": {},
   "outputs": [],
   "source": [
    "df1 = df1.melt(id_vars='date').rename(columns=str.title)"
   ]
  },
  {
   "cell_type": "code",
   "execution_count": 10,
   "metadata": {},
   "outputs": [
    {
     "data": {
      "text/html": [
       "<div>\n",
       "<style scoped>\n",
       "    .dataframe tbody tr th:only-of-type {\n",
       "        vertical-align: middle;\n",
       "    }\n",
       "\n",
       "    .dataframe tbody tr th {\n",
       "        vertical-align: top;\n",
       "    }\n",
       "\n",
       "    .dataframe thead th {\n",
       "        text-align: right;\n",
       "    }\n",
       "</style>\n",
       "<table border=\"1\" class=\"dataframe\">\n",
       "  <thead>\n",
       "    <tr style=\"text-align: right;\">\n",
       "      <th></th>\n",
       "      <th>Date</th>\n",
       "      <th>Variable</th>\n",
       "      <th>Value</th>\n",
       "    </tr>\n",
       "  </thead>\n",
       "  <tbody>\n",
       "    <tr>\n",
       "      <td>0</td>\n",
       "      <td>2020-07-24</td>\n",
       "      <td>positive</td>\n",
       "      <td>402312.0</td>\n",
       "    </tr>\n",
       "    <tr>\n",
       "      <td>1</td>\n",
       "      <td>2020-07-23</td>\n",
       "      <td>positive</td>\n",
       "      <td>389868.0</td>\n",
       "    </tr>\n",
       "    <tr>\n",
       "      <td>2</td>\n",
       "      <td>2020-07-22</td>\n",
       "      <td>positive</td>\n",
       "      <td>379619.0</td>\n",
       "    </tr>\n",
       "    <tr>\n",
       "      <td>3</td>\n",
       "      <td>2020-07-21</td>\n",
       "      <td>positive</td>\n",
       "      <td>369834.0</td>\n",
       "    </tr>\n",
       "    <tr>\n",
       "      <td>4</td>\n",
       "      <td>2020-07-20</td>\n",
       "      <td>positive</td>\n",
       "      <td>360394.0</td>\n",
       "    </tr>\n",
       "  </tbody>\n",
       "</table>\n",
       "</div>"
      ],
      "text/plain": [
       "        Date  Variable     Value\n",
       "0 2020-07-24  positive  402312.0\n",
       "1 2020-07-23  positive  389868.0\n",
       "2 2020-07-22  positive  379619.0\n",
       "3 2020-07-21  positive  369834.0\n",
       "4 2020-07-20  positive  360394.0"
      ]
     },
     "execution_count": 10,
     "metadata": {},
     "output_type": "execute_result"
    }
   ],
   "source": [
    "df1.head()"
   ]
  },
  {
   "cell_type": "code",
   "execution_count": 11,
   "metadata": {},
   "outputs": [
    {
     "name": "stderr",
     "output_type": "stream",
     "text": [
      "C:\\Users\\pbv01\\Anaconda3\\lib\\site-packages\\pandas\\plotting\\_matplotlib\\converter.py:103: FutureWarning: Using an implicitly registered datetime converter for a matplotlib plotting method. The converter was registered by pandas on import. Future versions of pandas will require you to explicitly register matplotlib converters.\n",
      "\n",
      "To register the converters:\n",
      "\t>>> from pandas.plotting import register_matplotlib_converters\n",
      "\t>>> register_matplotlib_converters()\n",
      "  warnings.warn(msg, FutureWarning)\n"
     ]
    },
    {
     "data": {
      "text/plain": [
       "Text(0, 0.5, 'Results')"
      ]
     },
     "execution_count": 11,
     "metadata": {},
     "output_type": "execute_result"
    },
    {
     "data": {
      "image/png": "[encoded data removed]",
      "text/plain": [
       "<Figure size 1080x504 with 1 Axes>"
      ]
     },
     "metadata": {
      "needs_background": "light"
     },
     "output_type": "display_data"
    }
   ],
   "source": [
    "fig_dims = (15, 7)\n",
    "fig, ax = plt.subplots(figsize=fig_dims)\n",
    "\n",
    "sns.lineplot(x='Date', y='Value', hue='Variable', data=df1)\n",
    "#sns.despine(fig)\n",
    "\n",
    "ax.set_title('Test Results')\n",
    "ax.set_ylabel('Results')"
   ]
  },
  {
   "cell_type": "code",
   "execution_count": 12,
   "metadata": {},
   "outputs": [],
   "source": [
    "df1.to_csv (r'C:\\Users\\pbv01\\Desktop\\testing.csv', index = False, header=True)"
   ]
  },
  {
   "cell_type": "code",
   "execution_count": null,
   "metadata": {},
   "outputs": [],
   "source": []
  },
  {
   "cell_type": "code",
   "execution_count": null,
   "metadata": {},
   "outputs": [],
   "source": []
  }
 ],
 "metadata": {
  "kernelspec": {
   "display_name": "Python 3",
   "language": "python",
   "name": "python3"
  },
  "language_info": {
   "codemirror_mode": {
    "name": "ipython",
    "version": 3
   },
   "file_extension": ".py",
   "mimetype": "text/x-python",
   "name": "python",
   "nbconvert_exporter": "python",
   "pygments_lexer": "ipython3",
   "version": "3.7.4"
  }
 },
 "nbformat": 4,
 "nbformat_minor": 2
}
