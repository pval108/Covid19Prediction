{
 "cells": [
  {
   "cell_type": "code",
   "execution_count": 28,
   "metadata": {},
   "outputs": [],
   "source": [
    "import pandas as pd\n",
    "import seaborn as sns\n",
    "import numpy as np\n",
    "import matplotlib.pyplot as plt\n",
    "%matplotlib inline\n",
    "sns.set(style=\"whitegrid\")"
   ]
  },
  {
   "cell_type": "markdown",
   "metadata": {},
   "source": [
    "# Data Import"
   ]
  },
  {
   "cell_type": "code",
   "execution_count": 29,
   "metadata": {},
   "outputs": [],
   "source": [
    "#Sourcefile: https://usafacts.org/visualizations/coronavirus-covid-19-spread-map/"
   ]
  },
  {
   "cell_type": "code",
   "execution_count": 30,
   "metadata": {},
   "outputs": [],
   "source": [
    "df = pd.read_csv(r'C:\\Users\\PRM\\Documents\\Projects\\Python\\COVID/covid_confirmed_usafacts.csv')"
   ]
  },
  {
   "cell_type": "code",
   "execution_count": 31,
   "metadata": {
    "scrolled": false
   },
   "outputs": [],
   "source": [
    "df = df[df['State']=='FL'] #confirmed"
   ]
  },
  {
   "cell_type": "code",
   "execution_count": 32,
   "metadata": {},
   "outputs": [
    {
     "data": {
      "text/html": [
       "<div>\n",
       "<style scoped>\n",
       "    .dataframe tbody tr th:only-of-type {\n",
       "        vertical-align: middle;\n",
       "    }\n",
       "\n",
       "    .dataframe tbody tr th {\n",
       "        vertical-align: top;\n",
       "    }\n",
       "\n",
       "    .dataframe thead th {\n",
       "        text-align: right;\n",
       "    }\n",
       "</style>\n",
       "<table border=\"1\" class=\"dataframe\">\n",
       "  <thead>\n",
       "    <tr style=\"text-align: right;\">\n",
       "      <th></th>\n",
       "      <th>countyFIPS</th>\n",
       "      <th>County Name</th>\n",
       "      <th>State</th>\n",
       "      <th>StateFIPS</th>\n",
       "      <th>2020-01-22</th>\n",
       "      <th>2020-01-23</th>\n",
       "      <th>2020-01-24</th>\n",
       "      <th>2020-01-25</th>\n",
       "      <th>2020-01-26</th>\n",
       "      <th>2020-01-27</th>\n",
       "      <th>...</th>\n",
       "      <th>2021-10-20</th>\n",
       "      <th>2021-10-21</th>\n",
       "      <th>2021-10-22</th>\n",
       "      <th>2021-10-23</th>\n",
       "      <th>2021-10-24</th>\n",
       "      <th>2021-10-25</th>\n",
       "      <th>2021-10-26</th>\n",
       "      <th>2021-10-27</th>\n",
       "      <th>2021-10-28</th>\n",
       "      <th>2021-10-29</th>\n",
       "    </tr>\n",
       "  </thead>\n",
       "  <tbody>\n",
       "    <tr>\n",
       "      <th>329</th>\n",
       "      <td>0</td>\n",
       "      <td>Statewide Unallocated</td>\n",
       "      <td>FL</td>\n",
       "      <td>12</td>\n",
       "      <td>0</td>\n",
       "      <td>0</td>\n",
       "      <td>0</td>\n",
       "      <td>0</td>\n",
       "      <td>0</td>\n",
       "      <td>0</td>\n",
       "      <td>...</td>\n",
       "      <td>14466</td>\n",
       "      <td>16472</td>\n",
       "      <td>3017</td>\n",
       "      <td>3205</td>\n",
       "      <td>4155</td>\n",
       "      <td>6179</td>\n",
       "      <td>6179</td>\n",
       "      <td>6179</td>\n",
       "      <td>3017</td>\n",
       "      <td>3017</td>\n",
       "    </tr>\n",
       "    <tr>\n",
       "      <th>330</th>\n",
       "      <td>12001</td>\n",
       "      <td>Alachua County</td>\n",
       "      <td>FL</td>\n",
       "      <td>12</td>\n",
       "      <td>0</td>\n",
       "      <td>0</td>\n",
       "      <td>0</td>\n",
       "      <td>0</td>\n",
       "      <td>0</td>\n",
       "      <td>0</td>\n",
       "      <td>...</td>\n",
       "      <td>39153</td>\n",
       "      <td>39153</td>\n",
       "      <td>39360</td>\n",
       "      <td>39360</td>\n",
       "      <td>39360</td>\n",
       "      <td>39360</td>\n",
       "      <td>39360</td>\n",
       "      <td>39360</td>\n",
       "      <td>39540</td>\n",
       "      <td>39540</td>\n",
       "    </tr>\n",
       "    <tr>\n",
       "      <th>331</th>\n",
       "      <td>12003</td>\n",
       "      <td>Baker County</td>\n",
       "      <td>FL</td>\n",
       "      <td>12</td>\n",
       "      <td>0</td>\n",
       "      <td>0</td>\n",
       "      <td>0</td>\n",
       "      <td>0</td>\n",
       "      <td>0</td>\n",
       "      <td>0</td>\n",
       "      <td>...</td>\n",
       "      <td>5960</td>\n",
       "      <td>5960</td>\n",
       "      <td>5970</td>\n",
       "      <td>5970</td>\n",
       "      <td>5970</td>\n",
       "      <td>5970</td>\n",
       "      <td>5970</td>\n",
       "      <td>5970</td>\n",
       "      <td>5972</td>\n",
       "      <td>5972</td>\n",
       "    </tr>\n",
       "    <tr>\n",
       "      <th>332</th>\n",
       "      <td>12005</td>\n",
       "      <td>Bay County</td>\n",
       "      <td>FL</td>\n",
       "      <td>12</td>\n",
       "      <td>0</td>\n",
       "      <td>0</td>\n",
       "      <td>0</td>\n",
       "      <td>0</td>\n",
       "      <td>0</td>\n",
       "      <td>0</td>\n",
       "      <td>...</td>\n",
       "      <td>31587</td>\n",
       "      <td>31587</td>\n",
       "      <td>31688</td>\n",
       "      <td>31688</td>\n",
       "      <td>31688</td>\n",
       "      <td>31688</td>\n",
       "      <td>31688</td>\n",
       "      <td>31688</td>\n",
       "      <td>31780</td>\n",
       "      <td>31780</td>\n",
       "    </tr>\n",
       "    <tr>\n",
       "      <th>333</th>\n",
       "      <td>12007</td>\n",
       "      <td>Bradford County</td>\n",
       "      <td>FL</td>\n",
       "      <td>12</td>\n",
       "      <td>0</td>\n",
       "      <td>0</td>\n",
       "      <td>0</td>\n",
       "      <td>0</td>\n",
       "      <td>0</td>\n",
       "      <td>0</td>\n",
       "      <td>...</td>\n",
       "      <td>5319</td>\n",
       "      <td>5319</td>\n",
       "      <td>5327</td>\n",
       "      <td>5327</td>\n",
       "      <td>5327</td>\n",
       "      <td>5327</td>\n",
       "      <td>5327</td>\n",
       "      <td>5327</td>\n",
       "      <td>5335</td>\n",
       "      <td>5335</td>\n",
       "    </tr>\n",
       "  </tbody>\n",
       "</table>\n",
       "<p>5 rows × 651 columns</p>\n",
       "</div>"
      ],
      "text/plain": [
       "     countyFIPS            County Name State  StateFIPS  2020-01-22  \\\n",
       "329           0  Statewide Unallocated    FL         12           0   \n",
       "330       12001        Alachua County     FL         12           0   \n",
       "331       12003          Baker County     FL         12           0   \n",
       "332       12005            Bay County     FL         12           0   \n",
       "333       12007       Bradford County     FL         12           0   \n",
       "\n",
       "     2020-01-23  2020-01-24  2020-01-25  2020-01-26  2020-01-27  ...  \\\n",
       "329           0           0           0           0           0  ...   \n",
       "330           0           0           0           0           0  ...   \n",
       "331           0           0           0           0           0  ...   \n",
       "332           0           0           0           0           0  ...   \n",
       "333           0           0           0           0           0  ...   \n",
       "\n",
       "     2021-10-20  2021-10-21  2021-10-22  2021-10-23  2021-10-24  2021-10-25  \\\n",
       "329       14466       16472        3017        3205        4155        6179   \n",
       "330       39153       39153       39360       39360       39360       39360   \n",
       "331        5960        5960        5970        5970        5970        5970   \n",
       "332       31587       31587       31688       31688       31688       31688   \n",
       "333        5319        5319        5327        5327        5327        5327   \n",
       "\n",
       "     2021-10-26  2021-10-27  2021-10-28  2021-10-29  \n",
       "329        6179        6179        3017        3017  \n",
       "330       39360       39360       39540       39540  \n",
       "331        5970        5970        5972        5972  \n",
       "332       31688       31688       31780       31780  \n",
       "333        5327        5327        5335        5335  \n",
       "\n",
       "[5 rows x 651 columns]"
      ]
     },
     "execution_count": 32,
     "metadata": {},
     "output_type": "execute_result"
    }
   ],
   "source": [
    "df.head()"
   ]
  },
  {
   "cell_type": "code",
   "execution_count": 33,
   "metadata": {},
   "outputs": [],
   "source": [
    "df = df[df['State']=='FL'] #population"
   ]
  },
  {
   "cell_type": "code",
   "execution_count": 34,
   "metadata": {},
   "outputs": [],
   "source": [
    "df['countyFIPS'] = df['countyFIPS'].replace('.0', '').astype(object)\n",
    "df['StateFIPS'] = df['StateFIPS'].replace('.0', '').astype(object)"
   ]
  },
  {
   "cell_type": "markdown",
   "metadata": {},
   "source": [
    "# Data Manipulation/Cleansing"
   ]
  },
  {
   "cell_type": "code",
   "execution_count": 35,
   "metadata": {},
   "outputs": [],
   "source": [
    "df = df[df['State']=='FL']\n",
    "df = df[df['County Name']!='Statewide Unallocated']"
   ]
  },
  {
   "cell_type": "code",
   "execution_count": 36,
   "metadata": {},
   "outputs": [],
   "source": [
    "df = df.melt(id_vars=['countyFIPS',\n",
    "                 'County Name',\n",
    "                 'State',\n",
    "                 'StateFIPS'], \n",
    "        var_name=\"Date\", \n",
    "        value_name=\"Confirmed Cases\")"
   ]
  },
  {
   "cell_type": "code",
   "execution_count": 37,
   "metadata": {},
   "outputs": [],
   "source": [
    "df['Confirmed Cases'] = df['Confirmed Cases'].astype(int)\n",
    "df['Confirmed Cases'] = df['Confirmed Cases'].astype(int)\n",
    "df['Confirmed Cases'] = df['Confirmed Cases'].astype(int)"
   ]
  },
  {
   "cell_type": "code",
   "execution_count": 38,
   "metadata": {},
   "outputs": [],
   "source": [
    "df['Date'] = pd.to_datetime(df['Date'])"
   ]
  },
  {
   "cell_type": "code",
   "execution_count": 39,
   "metadata": {},
   "outputs": [
    {
     "data": {
      "text/plain": [
       "countyFIPS                 object\n",
       "County Name                object\n",
       "State                      object\n",
       "StateFIPS                  object\n",
       "Date               datetime64[ns]\n",
       "Confirmed Cases             int32\n",
       "dtype: object"
      ]
     },
     "execution_count": 39,
     "metadata": {},
     "output_type": "execute_result"
    }
   ],
   "source": [
    "df.dtypes"
   ]
  },
  {
   "cell_type": "code",
   "execution_count": 40,
   "metadata": {},
   "outputs": [],
   "source": [
    "df['Month'] =df['Date'].dt.month_name(locale = 'English')"
   ]
  },
  {
   "cell_type": "markdown",
   "metadata": {},
   "source": [
    "# Exploratory Data Analysis"
   ]
  },
  {
   "cell_type": "code",
   "execution_count": 41,
   "metadata": {
    "scrolled": false
   },
   "outputs": [
    {
     "data": {
      "text/plain": [
       "Text(0.5, 1.0, 'Confirmed Cases ')"
      ]
     },
     "execution_count": 41,
     "metadata": {},
     "output_type": "execute_result"
    },
    {
     "data": {
      "image/png": "[encoded data removed]",
      "text/plain": [
       "<Figure size 1080x504 with 1 Axes>"
      ]
     },
     "metadata": {},
     "output_type": "display_data"
    }
   ],
   "source": [
    "plt.figure(figsize=(15,7))\n",
    "ax = sns.lineplot(x='Date', y=\"Confirmed Cases\", data=df)\n",
    "ax.set_title('Confirmed Cases ')"
   ]
  },
  {
   "cell_type": "code",
   "execution_count": 42,
   "metadata": {},
   "outputs": [
    {
     "data": {
      "text/html": [
       "<div>\n",
       "<style scoped>\n",
       "    .dataframe tbody tr th:only-of-type {\n",
       "        vertical-align: middle;\n",
       "    }\n",
       "\n",
       "    .dataframe tbody tr th {\n",
       "        vertical-align: top;\n",
       "    }\n",
       "\n",
       "    .dataframe thead th {\n",
       "        text-align: right;\n",
       "    }\n",
       "</style>\n",
       "<table border=\"1\" class=\"dataframe\">\n",
       "  <thead>\n",
       "    <tr style=\"text-align: right;\">\n",
       "      <th></th>\n",
       "      <th>countyFIPS</th>\n",
       "      <th>County Name</th>\n",
       "      <th>State</th>\n",
       "      <th>StateFIPS</th>\n",
       "      <th>Date</th>\n",
       "      <th>Confirmed Cases</th>\n",
       "      <th>Month</th>\n",
       "    </tr>\n",
       "  </thead>\n",
       "  <tbody>\n",
       "    <tr>\n",
       "      <th>0</th>\n",
       "      <td>12001</td>\n",
       "      <td>Alachua County</td>\n",
       "      <td>FL</td>\n",
       "      <td>12</td>\n",
       "      <td>2020-01-22</td>\n",
       "      <td>0</td>\n",
       "      <td>January</td>\n",
       "    </tr>\n",
       "    <tr>\n",
       "      <th>1</th>\n",
       "      <td>12003</td>\n",
       "      <td>Baker County</td>\n",
       "      <td>FL</td>\n",
       "      <td>12</td>\n",
       "      <td>2020-01-22</td>\n",
       "      <td>0</td>\n",
       "      <td>January</td>\n",
       "    </tr>\n",
       "    <tr>\n",
       "      <th>2</th>\n",
       "      <td>12005</td>\n",
       "      <td>Bay County</td>\n",
       "      <td>FL</td>\n",
       "      <td>12</td>\n",
       "      <td>2020-01-22</td>\n",
       "      <td>0</td>\n",
       "      <td>January</td>\n",
       "    </tr>\n",
       "    <tr>\n",
       "      <th>3</th>\n",
       "      <td>12007</td>\n",
       "      <td>Bradford County</td>\n",
       "      <td>FL</td>\n",
       "      <td>12</td>\n",
       "      <td>2020-01-22</td>\n",
       "      <td>0</td>\n",
       "      <td>January</td>\n",
       "    </tr>\n",
       "    <tr>\n",
       "      <th>4</th>\n",
       "      <td>12009</td>\n",
       "      <td>Brevard County</td>\n",
       "      <td>FL</td>\n",
       "      <td>12</td>\n",
       "      <td>2020-01-22</td>\n",
       "      <td>0</td>\n",
       "      <td>January</td>\n",
       "    </tr>\n",
       "    <tr>\n",
       "      <th>...</th>\n",
       "      <td>...</td>\n",
       "      <td>...</td>\n",
       "      <td>...</td>\n",
       "      <td>...</td>\n",
       "      <td>...</td>\n",
       "      <td>...</td>\n",
       "      <td>...</td>\n",
       "    </tr>\n",
       "    <tr>\n",
       "      <th>43344</th>\n",
       "      <td>12125</td>\n",
       "      <td>Union County</td>\n",
       "      <td>FL</td>\n",
       "      <td>12</td>\n",
       "      <td>2021-10-29</td>\n",
       "      <td>3061</td>\n",
       "      <td>October</td>\n",
       "    </tr>\n",
       "    <tr>\n",
       "      <th>43345</th>\n",
       "      <td>12127</td>\n",
       "      <td>Volusia County</td>\n",
       "      <td>FL</td>\n",
       "      <td>12</td>\n",
       "      <td>2021-10-29</td>\n",
       "      <td>75711</td>\n",
       "      <td>October</td>\n",
       "    </tr>\n",
       "    <tr>\n",
       "      <th>43346</th>\n",
       "      <td>12129</td>\n",
       "      <td>Wakulla County</td>\n",
       "      <td>FL</td>\n",
       "      <td>12</td>\n",
       "      <td>2021-10-29</td>\n",
       "      <td>6404</td>\n",
       "      <td>October</td>\n",
       "    </tr>\n",
       "    <tr>\n",
       "      <th>43347</th>\n",
       "      <td>12131</td>\n",
       "      <td>Walton County</td>\n",
       "      <td>FL</td>\n",
       "      <td>12</td>\n",
       "      <td>2021-10-29</td>\n",
       "      <td>11936</td>\n",
       "      <td>October</td>\n",
       "    </tr>\n",
       "    <tr>\n",
       "      <th>43348</th>\n",
       "      <td>12133</td>\n",
       "      <td>Washington County</td>\n",
       "      <td>FL</td>\n",
       "      <td>12</td>\n",
       "      <td>2021-10-29</td>\n",
       "      <td>4548</td>\n",
       "      <td>October</td>\n",
       "    </tr>\n",
       "  </tbody>\n",
       "</table>\n",
       "<p>43349 rows × 7 columns</p>\n",
       "</div>"
      ],
      "text/plain": [
       "      countyFIPS         County Name State StateFIPS       Date  \\\n",
       "0          12001     Alachua County     FL        12 2020-01-22   \n",
       "1          12003       Baker County     FL        12 2020-01-22   \n",
       "2          12005         Bay County     FL        12 2020-01-22   \n",
       "3          12007    Bradford County     FL        12 2020-01-22   \n",
       "4          12009     Brevard County     FL        12 2020-01-22   \n",
       "...          ...                 ...   ...       ...        ...   \n",
       "43344      12125       Union County     FL        12 2021-10-29   \n",
       "43345      12127     Volusia County     FL        12 2021-10-29   \n",
       "43346      12129     Wakulla County     FL        12 2021-10-29   \n",
       "43347      12131      Walton County     FL        12 2021-10-29   \n",
       "43348      12133  Washington County     FL        12 2021-10-29   \n",
       "\n",
       "       Confirmed Cases    Month  \n",
       "0                    0  January  \n",
       "1                    0  January  \n",
       "2                    0  January  \n",
       "3                    0  January  \n",
       "4                    0  January  \n",
       "...                ...      ...  \n",
       "43344             3061  October  \n",
       "43345            75711  October  \n",
       "43346             6404  October  \n",
       "43347            11936  October  \n",
       "43348             4548  October  \n",
       "\n",
       "[43349 rows x 7 columns]"
      ]
     },
     "execution_count": 42,
     "metadata": {},
     "output_type": "execute_result"
    }
   ],
   "source": [
    "df"
   ]
  },
  {
   "cell_type": "code",
   "execution_count": null,
   "metadata": {},
   "outputs": [],
   "source": []
  }
 ],
 "metadata": {
  "interpreter": {
   "hash": "826e0e7e42cb1017ad7091aace36f1107c7e77a3fad2677976e26b14e8c9025d"
  },
  "kernelspec": {
   "display_name": "Python 3.7.3 32-bit",
   "name": "python3"
  },
  "language_info": {
   "codemirror_mode": {
    "name": "ipython",
    "version": 3
   },
   "file_extension": ".py",
   "mimetype": "text/x-python",
   "name": "python",
   "nbconvert_exporter": "python",
   "pygments_lexer": "ipython3",
   "version": "3.7.3"
  }
 },
 "nbformat": 4,
 "nbformat_minor": 2
}
